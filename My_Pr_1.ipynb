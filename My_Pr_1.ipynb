{
  "nbformat": 4,
  "nbformat_minor": 0,
  "metadata": {
    "colab": {
      "provenance": [],
      "gpuType": "T4"
    },
    "kernelspec": {
      "name": "python3",
      "display_name": "Python 3"
    },
    "language_info": {
      "name": "python"
    },
    "accelerator": "GPU"
  },
  "cells": [
    {
      "cell_type": "markdown",
      "source": [
        "**My First Project - MNIST Classification**\n",
        "\n",
        "---\n",
        "\n"
      ],
      "metadata": {
        "id": "NEbs7t-eRxgG"
      }
    },
    {
      "cell_type": "code",
      "execution_count": null,
      "metadata": {
        "id": "7b-jRNK3Yv7b"
      },
      "outputs": [],
      "source": [
        "import numpy as np\n",
        "import pandas as pd\n",
        "import tensorflow as tf\n",
        "import matplotlib.pyplot as plt\n"
      ]
    },
    {
      "cell_type": "code",
      "source": [
        "data = tf.keras.datasets.mnist.load_data()\n"
      ],
      "metadata": {
        "id": "ac2Tr1XEcADD",
        "colab": {
          "base_uri": "https://localhost:8080/"
        },
        "outputId": "3bf256fc-0661-4eff-a255-7c455f255d1e"
      },
      "execution_count": null,
      "outputs": [
        {
          "output_type": "stream",
          "name": "stdout",
          "text": [
            "Downloading data from https://storage.googleapis.com/tensorflow/tf-keras-datasets/mnist.npz\n",
            "11490434/11490434 [==============================] - 0s 0us/step\n"
          ]
        }
      ]
    },
    {
      "cell_type": "code",
      "source": [
        "(train_data, train_labels), (test_data, test_labels) = data"
      ],
      "metadata": {
        "id": "FodW_y3pRuvc"
      },
      "execution_count": null,
      "outputs": []
    },
    {
      "cell_type": "code",
      "source": [
        "print(type(train_data), train_data.shape, train_data.dtype)\n",
        "print(type(test_data), test_data.shape, test_data.dtype)\n",
        "print(type(train_labels), train_labels.shape, train_labels.dtype)\n",
        "print(type(test_labels), test_labels.shape, test_labels.dtype)"
      ],
      "metadata": {
        "colab": {
          "base_uri": "https://localhost:8080/"
        },
        "id": "HLhQeTSHEpyb",
        "outputId": "bba25e07-a150-4e98-e3e6-17484aae2ecd"
      },
      "execution_count": null,
      "outputs": [
        {
          "output_type": "stream",
          "name": "stdout",
          "text": [
            "<class 'numpy.ndarray'> (60000, 28, 28) uint8\n",
            "<class 'numpy.ndarray'> (10000, 28, 28) uint8\n",
            "<class 'numpy.ndarray'> (60000,) uint8\n",
            "<class 'numpy.ndarray'> (10000,) uint8\n"
          ]
        }
      ]
    },
    {
      "cell_type": "code",
      "source": [
        "train_data = train_data.reshape(-1, 28*28)\n",
        "test_data = test_data.reshape(-1, 28*28)\n",
        "print(type(train_data), train_data.shape, train_data.dtype)\n",
        "print(type(test_data), test_data.shape, test_data.dtype)\n",
        "print(type(train_labels), train_labels.shape, train_labels.dtype)\n",
        "print(type(test_labels), test_labels.shape, test_labels.dtype)"
      ],
      "metadata": {
        "colab": {
          "base_uri": "https://localhost:8080/"
        },
        "id": "-4L5zDXwE7_L",
        "outputId": "ed22580c-acc0-4c16-f9d4-5df89d288058"
      },
      "execution_count": null,
      "outputs": [
        {
          "output_type": "stream",
          "name": "stdout",
          "text": [
            "<class 'numpy.ndarray'> (60000, 784) uint8\n",
            "<class 'numpy.ndarray'> (10000, 784) uint8\n",
            "<class 'numpy.ndarray'> (60000,) uint8\n",
            "<class 'numpy.ndarray'> (10000,) uint8\n"
          ]
        }
      ]
    },
    {
      "cell_type": "code",
      "source": [
        "print(train_labels[:100])"
      ],
      "metadata": {
        "colab": {
          "base_uri": "https://localhost:8080/"
        },
        "id": "t9x6oCI1FCHr",
        "outputId": "a932bc3b-e310-4ca0-d4da-11d884c120f3"
      },
      "execution_count": null,
      "outputs": [
        {
          "output_type": "stream",
          "name": "stdout",
          "text": [
            "[5 0 4 1 9 2 1 3 1 4 3 5 3 6 1 7 2 8 6 9 4 0 9 1 1 2 4 3 2 7 3 8 6 9 0 5 6\n",
            " 0 7 6 1 8 7 9 3 9 8 5 9 3 3 0 7 4 9 8 0 9 4 1 4 4 6 0 4 5 6 1 0 0 1 7 1 6\n",
            " 3 0 2 1 1 7 9 0 2 6 7 8 3 9 0 4 6 7 4 6 8 0 7 8 3 1]\n"
          ]
        }
      ]
    },
    {
      "cell_type": "code",
      "source": [
        "from tensorflow.keras.utils import to_categorical"
      ],
      "metadata": {
        "id": "FmVxS-PVFHL6"
      },
      "execution_count": null,
      "outputs": []
    },
    {
      "cell_type": "code",
      "source": [
        "train_labels = to_categorical(train_labels)\n",
        "test_labels = to_categorical(test_labels)\n",
        "print(type(train_data), train_data.shape, train_data.dtype)\n",
        "print(type(test_data), test_data.shape, test_data.dtype)\n",
        "print(type(train_labels), train_labels.shape, train_labels.dtype)\n",
        "print(type(test_labels), test_labels.shape, test_labels.dtype)"
      ],
      "metadata": {
        "colab": {
          "base_uri": "https://localhost:8080/"
        },
        "id": "lftohVsVFM7K",
        "outputId": "c8ec40f4-828e-4e99-df4c-8fbeb6b5b4cc"
      },
      "execution_count": null,
      "outputs": [
        {
          "output_type": "stream",
          "name": "stdout",
          "text": [
            "<class 'numpy.ndarray'> (60000, 784) uint8\n",
            "<class 'numpy.ndarray'> (10000, 784) uint8\n",
            "<class 'numpy.ndarray'> (60000, 10) float32\n",
            "<class 'numpy.ndarray'> (10000, 10) float32\n"
          ]
        }
      ]
    },
    {
      "cell_type": "code",
      "source": [
        "train_data = train_data.astype('float32') / 255.0\n",
        "test_data = test_data.astype('float32') / 255.0"
      ],
      "metadata": {
        "id": "pFPF8jLpGaOz"
      },
      "execution_count": null,
      "outputs": []
    },
    {
      "cell_type": "code",
      "source": [
        "from tensorflow.keras.layers import Input, Dense"
      ],
      "metadata": {
        "id": "LBLijD7vGtY0"
      },
      "execution_count": null,
      "outputs": []
    },
    {
      "cell_type": "code",
      "source": [
        "model = tf.keras.Sequential()\n",
        "model.add(Input(784,))\n",
        "model.add(Dense(512, activation='relu'))\n",
        "model.add(Dense(256, activation='relu'))\n",
        "model.add(Dense(128, activation='relu'))\n",
        "model.add(Dense(10, activation='softmax'))"
      ],
      "metadata": {
        "id": "tyCpasQ7HcWq"
      },
      "execution_count": null,
      "outputs": []
    },
    {
      "cell_type": "code",
      "source": [
        "model.summary()"
      ],
      "metadata": {
        "colab": {
          "base_uri": "https://localhost:8080/"
        },
        "id": "e8W6DzIhHnj5",
        "outputId": "a457a959-7fb0-4e57-b418-3664b0656675"
      },
      "execution_count": null,
      "outputs": [
        {
          "output_type": "stream",
          "name": "stdout",
          "text": [
            "Model: \"sequential\"\n",
            "_________________________________________________________________\n",
            " Layer (type)                Output Shape              Param #   \n",
            "=================================================================\n",
            " dense (Dense)               (None, 512)               401920    \n",
            "                                                                 \n",
            " dense_1 (Dense)             (None, 256)               131328    \n",
            "                                                                 \n",
            " dense_2 (Dense)             (None, 128)               32896     \n",
            "                                                                 \n",
            " dense_3 (Dense)             (None, 10)                1290      \n",
            "                                                                 \n",
            "=================================================================\n",
            "Total params: 567,434\n",
            "Trainable params: 567,434\n",
            "Non-trainable params: 0\n",
            "_________________________________________________________________\n"
          ]
        }
      ]
    },
    {
      "cell_type": "code",
      "source": [
        "from tensorflow.keras.optimizers import SGD, Adam\n",
        "\n",
        "model.compile(optimizer=Adam(learning_rate=0.00001), loss='categorical_crossentropy', metrics='accuracy')"
      ],
      "metadata": {
        "id": "SFtJliPdIGGH"
      },
      "execution_count": null,
      "outputs": []
    },
    {
      "cell_type": "code",
      "source": [
        "train_data.shape"
      ],
      "metadata": {
        "colab": {
          "base_uri": "https://localhost:8080/"
        },
        "id": "5NhHKwUoJfQ_",
        "outputId": "eaa44c03-ae05-4651-a62c-e995c7284ea8"
      },
      "execution_count": null,
      "outputs": [
        {
          "output_type": "execute_result",
          "data": {
            "text/plain": [
              "(60000, 784)"
            ]
          },
          "metadata": {},
          "execution_count": 14
        }
      ]
    },
    {
      "cell_type": "code",
      "source": [
        "model.fit(x=train_data, y=train_labels, batch_size=64, epochs=64, validation_split=0.2)"
      ],
      "metadata": {
        "colab": {
          "base_uri": "https://localhost:8080/"
        },
        "id": "KrQbBbbkI-Rw",
        "outputId": "19a1ced8-4ac1-4706-9ab2-647723c1f99b"
      },
      "execution_count": null,
      "outputs": [
        {
          "output_type": "stream",
          "name": "stdout",
          "text": [
            "Epoch 1/64\n",
            "750/750 [==============================] - 12s 5ms/step - loss: 1.6799 - accuracy: 0.5983 - val_loss: 0.9341 - val_accuracy: 0.8349\n",
            "Epoch 2/64\n",
            "750/750 [==============================] - 3s 4ms/step - loss: 0.6518 - accuracy: 0.8609 - val_loss: 0.4491 - val_accuracy: 0.8967\n",
            "Epoch 3/64\n",
            "750/750 [==============================] - 3s 4ms/step - loss: 0.4137 - accuracy: 0.8958 - val_loss: 0.3441 - val_accuracy: 0.9132\n",
            "Epoch 4/64\n",
            "750/750 [==============================] - 3s 4ms/step - loss: 0.3389 - accuracy: 0.9097 - val_loss: 0.2982 - val_accuracy: 0.9198\n",
            "Epoch 5/64\n",
            "750/750 [==============================] - 3s 4ms/step - loss: 0.2989 - accuracy: 0.9181 - val_loss: 0.2698 - val_accuracy: 0.9265\n",
            "Epoch 6/64\n",
            "750/750 [==============================] - 3s 4ms/step - loss: 0.2720 - accuracy: 0.9246 - val_loss: 0.2514 - val_accuracy: 0.9302\n",
            "Epoch 7/64\n",
            "750/750 [==============================] - 3s 4ms/step - loss: 0.2513 - accuracy: 0.9303 - val_loss: 0.2341 - val_accuracy: 0.9352\n",
            "Epoch 8/64\n",
            "750/750 [==============================] - 3s 4ms/step - loss: 0.2351 - accuracy: 0.9344 - val_loss: 0.2211 - val_accuracy: 0.9390\n",
            "Epoch 9/64\n",
            "750/750 [==============================] - 3s 4ms/step - loss: 0.2210 - accuracy: 0.9382 - val_loss: 0.2105 - val_accuracy: 0.9426\n",
            "Epoch 10/64\n",
            "750/750 [==============================] - 3s 4ms/step - loss: 0.2090 - accuracy: 0.9416 - val_loss: 0.2012 - val_accuracy: 0.9438\n",
            "Epoch 11/64\n",
            "750/750 [==============================] - 3s 4ms/step - loss: 0.1983 - accuracy: 0.9440 - val_loss: 0.1931 - val_accuracy: 0.9470\n",
            "Epoch 12/64\n",
            "750/750 [==============================] - 3s 4ms/step - loss: 0.1886 - accuracy: 0.9472 - val_loss: 0.1857 - val_accuracy: 0.9493\n",
            "Epoch 13/64\n",
            "750/750 [==============================] - 3s 4ms/step - loss: 0.1802 - accuracy: 0.9494 - val_loss: 0.1785 - val_accuracy: 0.9509\n",
            "Epoch 14/64\n",
            "750/750 [==============================] - 3s 5ms/step - loss: 0.1723 - accuracy: 0.9512 - val_loss: 0.1734 - val_accuracy: 0.9519\n",
            "Epoch 15/64\n",
            "750/750 [==============================] - 3s 4ms/step - loss: 0.1651 - accuracy: 0.9541 - val_loss: 0.1681 - val_accuracy: 0.9535\n",
            "Epoch 16/64\n",
            "750/750 [==============================] - 3s 4ms/step - loss: 0.1583 - accuracy: 0.9557 - val_loss: 0.1627 - val_accuracy: 0.9542\n",
            "Epoch 17/64\n",
            "750/750 [==============================] - 3s 4ms/step - loss: 0.1523 - accuracy: 0.9573 - val_loss: 0.1589 - val_accuracy: 0.9553\n",
            "Epoch 18/64\n",
            "750/750 [==============================] - 4s 5ms/step - loss: 0.1468 - accuracy: 0.9592 - val_loss: 0.1543 - val_accuracy: 0.9574\n",
            "Epoch 19/64\n",
            "750/750 [==============================] - 3s 4ms/step - loss: 0.1413 - accuracy: 0.9605 - val_loss: 0.1504 - val_accuracy: 0.9582\n",
            "Epoch 20/64\n",
            "750/750 [==============================] - 3s 4ms/step - loss: 0.1362 - accuracy: 0.9621 - val_loss: 0.1476 - val_accuracy: 0.9582\n",
            "Epoch 21/64\n",
            "750/750 [==============================] - 3s 4ms/step - loss: 0.1314 - accuracy: 0.9638 - val_loss: 0.1441 - val_accuracy: 0.9594\n",
            "Epoch 22/64\n",
            "750/750 [==============================] - 4s 5ms/step - loss: 0.1268 - accuracy: 0.9642 - val_loss: 0.1406 - val_accuracy: 0.9601\n",
            "Epoch 23/64\n",
            "750/750 [==============================] - 3s 4ms/step - loss: 0.1226 - accuracy: 0.9661 - val_loss: 0.1369 - val_accuracy: 0.9611\n",
            "Epoch 24/64\n",
            "750/750 [==============================] - 3s 4ms/step - loss: 0.1190 - accuracy: 0.9671 - val_loss: 0.1346 - val_accuracy: 0.9613\n",
            "Epoch 25/64\n",
            "750/750 [==============================] - 3s 4ms/step - loss: 0.1148 - accuracy: 0.9681 - val_loss: 0.1320 - val_accuracy: 0.9622\n",
            "Epoch 26/64\n",
            "750/750 [==============================] - 3s 4ms/step - loss: 0.1112 - accuracy: 0.9691 - val_loss: 0.1300 - val_accuracy: 0.9637\n",
            "Epoch 27/64\n",
            "750/750 [==============================] - 3s 4ms/step - loss: 0.1076 - accuracy: 0.9701 - val_loss: 0.1275 - val_accuracy: 0.9633\n",
            "Epoch 28/64\n",
            "750/750 [==============================] - 3s 4ms/step - loss: 0.1043 - accuracy: 0.9712 - val_loss: 0.1248 - val_accuracy: 0.9638\n",
            "Epoch 29/64\n",
            "750/750 [==============================] - 3s 4ms/step - loss: 0.1011 - accuracy: 0.9722 - val_loss: 0.1237 - val_accuracy: 0.9643\n",
            "Epoch 30/64\n",
            "750/750 [==============================] - 3s 4ms/step - loss: 0.0981 - accuracy: 0.9726 - val_loss: 0.1221 - val_accuracy: 0.9643\n",
            "Epoch 31/64\n",
            "750/750 [==============================] - 3s 4ms/step - loss: 0.0951 - accuracy: 0.9737 - val_loss: 0.1191 - val_accuracy: 0.9653\n",
            "Epoch 32/64\n",
            "750/750 [==============================] - 3s 4ms/step - loss: 0.0921 - accuracy: 0.9745 - val_loss: 0.1175 - val_accuracy: 0.9662\n",
            "Epoch 33/64\n",
            "750/750 [==============================] - 3s 4ms/step - loss: 0.0894 - accuracy: 0.9755 - val_loss: 0.1158 - val_accuracy: 0.9661\n",
            "Epoch 34/64\n",
            "750/750 [==============================] - 3s 4ms/step - loss: 0.0867 - accuracy: 0.9761 - val_loss: 0.1141 - val_accuracy: 0.9657\n",
            "Epoch 35/64\n",
            "750/750 [==============================] - 3s 4ms/step - loss: 0.0842 - accuracy: 0.9770 - val_loss: 0.1122 - val_accuracy: 0.9671\n",
            "Epoch 36/64\n",
            "750/750 [==============================] - 3s 4ms/step - loss: 0.0819 - accuracy: 0.9778 - val_loss: 0.1110 - val_accuracy: 0.9676\n",
            "Epoch 37/64\n",
            "750/750 [==============================] - 3s 4ms/step - loss: 0.0793 - accuracy: 0.9783 - val_loss: 0.1093 - val_accuracy: 0.9679\n",
            "Epoch 38/64\n",
            "750/750 [==============================] - 3s 4ms/step - loss: 0.0772 - accuracy: 0.9792 - val_loss: 0.1080 - val_accuracy: 0.9688\n",
            "Epoch 39/64\n",
            "750/750 [==============================] - 3s 4ms/step - loss: 0.0750 - accuracy: 0.9799 - val_loss: 0.1064 - val_accuracy: 0.9685\n",
            "Epoch 40/64\n",
            "750/750 [==============================] - 3s 4ms/step - loss: 0.0727 - accuracy: 0.9803 - val_loss: 0.1058 - val_accuracy: 0.9690\n",
            "Epoch 41/64\n",
            "750/750 [==============================] - 3s 4ms/step - loss: 0.0706 - accuracy: 0.9811 - val_loss: 0.1038 - val_accuracy: 0.9691\n",
            "Epoch 42/64\n",
            "750/750 [==============================] - 4s 5ms/step - loss: 0.0687 - accuracy: 0.9819 - val_loss: 0.1029 - val_accuracy: 0.9696\n",
            "Epoch 43/64\n",
            "750/750 [==============================] - 3s 4ms/step - loss: 0.0667 - accuracy: 0.9820 - val_loss: 0.1020 - val_accuracy: 0.9694\n",
            "Epoch 44/64\n",
            "750/750 [==============================] - 3s 4ms/step - loss: 0.0648 - accuracy: 0.9825 - val_loss: 0.1025 - val_accuracy: 0.9695\n",
            "Epoch 45/64\n",
            "750/750 [==============================] - 3s 4ms/step - loss: 0.0629 - accuracy: 0.9833 - val_loss: 0.0998 - val_accuracy: 0.9705\n",
            "Epoch 46/64\n",
            "750/750 [==============================] - 3s 5ms/step - loss: 0.0612 - accuracy: 0.9837 - val_loss: 0.0993 - val_accuracy: 0.9699\n",
            "Epoch 47/64\n",
            "750/750 [==============================] - 3s 4ms/step - loss: 0.0595 - accuracy: 0.9847 - val_loss: 0.0984 - val_accuracy: 0.9709\n",
            "Epoch 48/64\n",
            "750/750 [==============================] - 3s 4ms/step - loss: 0.0578 - accuracy: 0.9847 - val_loss: 0.0972 - val_accuracy: 0.9711\n",
            "Epoch 49/64\n",
            "750/750 [==============================] - 3s 4ms/step - loss: 0.0561 - accuracy: 0.9850 - val_loss: 0.0962 - val_accuracy: 0.9707\n",
            "Epoch 50/64\n",
            "750/750 [==============================] - 4s 5ms/step - loss: 0.0545 - accuracy: 0.9858 - val_loss: 0.0945 - val_accuracy: 0.9718\n",
            "Epoch 51/64\n",
            "750/750 [==============================] - 3s 4ms/step - loss: 0.0530 - accuracy: 0.9865 - val_loss: 0.0947 - val_accuracy: 0.9712\n",
            "Epoch 52/64\n",
            "750/750 [==============================] - 3s 4ms/step - loss: 0.0515 - accuracy: 0.9864 - val_loss: 0.0933 - val_accuracy: 0.9718\n",
            "Epoch 53/64\n",
            "750/750 [==============================] - 3s 4ms/step - loss: 0.0500 - accuracy: 0.9874 - val_loss: 0.0939 - val_accuracy: 0.9720\n",
            "Epoch 54/64\n",
            "750/750 [==============================] - 4s 5ms/step - loss: 0.0486 - accuracy: 0.9876 - val_loss: 0.0923 - val_accuracy: 0.9717\n",
            "Epoch 55/64\n",
            "750/750 [==============================] - 3s 4ms/step - loss: 0.0472 - accuracy: 0.9880 - val_loss: 0.0918 - val_accuracy: 0.9724\n",
            "Epoch 56/64\n",
            "750/750 [==============================] - 3s 4ms/step - loss: 0.0459 - accuracy: 0.9886 - val_loss: 0.0915 - val_accuracy: 0.9728\n",
            "Epoch 57/64\n",
            "750/750 [==============================] - 3s 4ms/step - loss: 0.0445 - accuracy: 0.9891 - val_loss: 0.0906 - val_accuracy: 0.9728\n",
            "Epoch 58/64\n",
            "750/750 [==============================] - 4s 5ms/step - loss: 0.0433 - accuracy: 0.9894 - val_loss: 0.0900 - val_accuracy: 0.9729\n",
            "Epoch 59/64\n",
            "750/750 [==============================] - 3s 4ms/step - loss: 0.0420 - accuracy: 0.9899 - val_loss: 0.0896 - val_accuracy: 0.9733\n",
            "Epoch 60/64\n",
            "750/750 [==============================] - 3s 4ms/step - loss: 0.0409 - accuracy: 0.9902 - val_loss: 0.0891 - val_accuracy: 0.9730\n",
            "Epoch 61/64\n",
            "750/750 [==============================] - 3s 4ms/step - loss: 0.0398 - accuracy: 0.9904 - val_loss: 0.0886 - val_accuracy: 0.9734\n",
            "Epoch 62/64\n",
            "750/750 [==============================] - 4s 5ms/step - loss: 0.0385 - accuracy: 0.9909 - val_loss: 0.0886 - val_accuracy: 0.9731\n",
            "Epoch 63/64\n",
            "750/750 [==============================] - 3s 4ms/step - loss: 0.0375 - accuracy: 0.9914 - val_loss: 0.0880 - val_accuracy: 0.9737\n",
            "Epoch 64/64\n",
            "750/750 [==============================] - 3s 4ms/step - loss: 0.0364 - accuracy: 0.9917 - val_loss: 0.0869 - val_accuracy: 0.9743\n"
          ]
        },
        {
          "output_type": "execute_result",
          "data": {
            "text/plain": [
              "<keras.callbacks.History at 0x7aaf70161120>"
            ]
          },
          "metadata": {},
          "execution_count": 15
        }
      ]
    },
    {
      "cell_type": "code",
      "source": [
        "model.save('model.h5')"
      ],
      "metadata": {
        "id": "mOWokwj9ZyWG"
      },
      "execution_count": null,
      "outputs": []
    },
    {
      "cell_type": "code",
      "source": [
        "model.evaluate(x=test_data, y=test_labels)"
      ],
      "metadata": {
        "colab": {
          "base_uri": "https://localhost:8080/"
        },
        "id": "7WlDaj7pb_dz",
        "outputId": "1c757045-15a5-472c-888e-3a563407e2d6"
      },
      "execution_count": null,
      "outputs": [
        {
          "output_type": "stream",
          "name": "stdout",
          "text": [
            "313/313 [==============================] - 1s 2ms/step - loss: 0.0792 - accuracy: 0.9763\n"
          ]
        },
        {
          "output_type": "execute_result",
          "data": {
            "text/plain": [
              "[0.07916200160980225, 0.9763000011444092]"
            ]
          },
          "metadata": {},
          "execution_count": 17
        }
      ]
    },
    {
      "cell_type": "code",
      "source": [
        "test_data[:100].shape"
      ],
      "metadata": {
        "colab": {
          "base_uri": "https://localhost:8080/"
        },
        "id": "8vBY9XDVe_4f",
        "outputId": "91f7b714-dbf3-4445-a064-9b5cccf90fbb"
      },
      "execution_count": null,
      "outputs": [
        {
          "output_type": "execute_result",
          "data": {
            "text/plain": [
              "(100, 784)"
            ]
          },
          "metadata": {},
          "execution_count": 47
        }
      ]
    },
    {
      "cell_type": "code",
      "source": [
        "yyy = model.predict(test_data)\n"
      ],
      "metadata": {
        "colab": {
          "base_uri": "https://localhost:8080/"
        },
        "id": "RM6TjoKtcvtv",
        "outputId": "ce41ebe2-c2b7-45f3-9f54-47ec7d8b3c09"
      },
      "execution_count": null,
      "outputs": [
        {
          "output_type": "stream",
          "name": "stdout",
          "text": [
            "313/313 [==============================] - 1s 2ms/step\n"
          ]
        }
      ]
    },
    {
      "cell_type": "code",
      "source": [
        "for i in range(len(yyy[100])):\n",
        "  print(i, yyy[100][i])"
      ],
      "metadata": {
        "colab": {
          "base_uri": "https://localhost:8080/"
        },
        "id": "KlgwA5EqibsW",
        "outputId": "a678d75a-99fc-41cf-dc92-91354474e69f"
      },
      "execution_count": null,
      "outputs": [
        {
          "output_type": "stream",
          "name": "stdout",
          "text": [
            "0 3.657949e-05\n",
            "1 0.00018388403\n",
            "2 2.4808794e-05\n",
            "3 1.2027593e-06\n",
            "4 8.680092e-06\n",
            "5 7.1502254e-05\n",
            "6 0.99964774\n",
            "7 4.0281075e-06\n",
            "8 2.1069995e-05\n",
            "9 5.302748e-07\n"
          ]
        }
      ]
    },
    {
      "cell_type": "code",
      "source": [
        "%matplotlib inline\n",
        "plt.imshow(test_data[100].reshape(28,28), cmap='gray')"
      ],
      "metadata": {
        "colab": {
          "base_uri": "https://localhost:8080/",
          "height": 447
        },
        "id": "2ZH7krtGdKLP",
        "outputId": "c61348f9-4dc3-421d-eed9-61c92a51bf3f"
      },
      "execution_count": null,
      "outputs": [
        {
          "output_type": "execute_result",
          "data": {
            "text/plain": [
              "<matplotlib.image.AxesImage at 0x7aae941407f0>"
            ]
          },
          "metadata": {},
          "execution_count": 32
        },
        {
          "output_type": "display_data",
          "data": {
            "text/plain": [
              "<Figure size 640x480 with 1 Axes>"
            ],
            "image/png": "[encoded data removed]"
          },
          "metadata": {}
        }
      ]
    }
  ]
}